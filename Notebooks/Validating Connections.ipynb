{
 "cells": [
  {
   "cell_type": "markdown",
   "id": "0c56e1f0-515d-474b-be02-6071a2d30631",
   "metadata": {},
   "source": [
    "# Validation\n",
    "\n",
    "This notebook contains the steps followed to build the validated networks starting from the original retweet network"
   ]
  },
  {
   "cell_type": "code",
   "execution_count": 1,
   "id": "f49b4e41",
   "metadata": {
    "scrolled": true
   },
   "outputs": [],
   "source": [
    "import numpy as np\n",
    "import networkx as nx\n",
    "from NEMtropy import DirectedGraph\n",
    "from NEMtropy.network_functions import build_adjacency_from_edgelist\n",
    "from tqdm import tqdm\n",
    "import matplotlib.pyplot as plt\n",
    "from validation import Graph_validation\n",
    "\n",
    "import graph_tool.all as gt"
   ]
  },
  {
   "cell_type": "markdown",
   "id": "1ace561c",
   "metadata": {},
   "source": [
    "### Here we are going to estimate the parameter of the model CReMa."
   ]
  },
  {
   "cell_type": "markdown",
   "id": "309a1335-f487-41e4-bb20-5ab16e3e124e",
   "metadata": {},
   "source": [
    "Let's load all the relevant information regarding the original graph."
   ]
  },
  {
   "cell_type": "code",
   "execution_count": 2,
   "id": "ae7431d3",
   "metadata": {},
   "outputs": [
    {
     "ename": "FileNotFoundError",
     "evalue": "[Errno 2] No such file or directory: 'Left.gt'",
     "output_type": "error",
     "traceback": [
      "\u001b[0;31m---------------------------------------------------------------------------\u001b[0m",
      "\u001b[0;31mFileNotFoundError\u001b[0m                         Traceback (most recent call last)",
      "Cell \u001b[0;32mIn[2], line 2\u001b[0m\n\u001b[1;32m      1\u001b[0m \u001b[38;5;66;03m# Upload the graph\u001b[39;00m\n\u001b[0;32m----> 2\u001b[0m G \u001b[38;5;241m=\u001b[39m \u001b[43mgt\u001b[49m\u001b[38;5;241;43m.\u001b[39;49m\u001b[43mload_graph\u001b[49m\u001b[43m(\u001b[49m\u001b[38;5;124;43m\"\u001b[39;49m\u001b[38;5;124;43mLeft.gt\u001b[39;49m\u001b[38;5;124;43m\"\u001b[39;49m\u001b[43m)\u001b[49m\n\u001b[1;32m      4\u001b[0m \u001b[38;5;66;03m# Take the property \"weight\" associate to each link\u001b[39;00m\n\u001b[1;32m      5\u001b[0m weights \u001b[38;5;241m=\u001b[39m G\u001b[38;5;241m.\u001b[39medge_properties[\u001b[38;5;124m\"\u001b[39m\u001b[38;5;124mweight\u001b[39m\u001b[38;5;124m\"\u001b[39m]\n",
      "File \u001b[0;32m~/anaconda3/envs/gt/lib/python3.11/site-packages/graph_tool/__init__.py:3555\u001b[0m, in \u001b[0;36mload_graph\u001b[0;34m(file_name, fmt, ignore_vp, ignore_ep, ignore_gp)\u001b[0m\n\u001b[1;32m   3537\u001b[0m \u001b[38;5;250m\u001b[39m\u001b[38;5;124;03m\"\"\"Load a graph from ``file_name`` (which can be either a string or a file-like object).\u001b[39;00m\n\u001b[1;32m   3538\u001b[0m \n\u001b[1;32m   3539\u001b[0m \u001b[38;5;124;03mThe format is guessed from ``file_name``, or can be specified by ``fmt``,\u001b[39;00m\n\u001b[0;32m   (...)\u001b[0m\n\u001b[1;32m   3552\u001b[0m \n\u001b[1;32m   3553\u001b[0m \u001b[38;5;124;03m\"\"\"\u001b[39;00m\n\u001b[1;32m   3554\u001b[0m g \u001b[38;5;241m=\u001b[39m Graph()\n\u001b[0;32m-> 3555\u001b[0m \u001b[43mg\u001b[49m\u001b[38;5;241;43m.\u001b[39;49m\u001b[43mload\u001b[49m\u001b[43m(\u001b[49m\u001b[43mfile_name\u001b[49m\u001b[43m,\u001b[49m\u001b[43m \u001b[49m\u001b[43mfmt\u001b[49m\u001b[43m,\u001b[49m\u001b[43m \u001b[49m\u001b[43mignore_vp\u001b[49m\u001b[43m,\u001b[49m\u001b[43m \u001b[49m\u001b[43mignore_ep\u001b[49m\u001b[43m,\u001b[49m\u001b[43m \u001b[49m\u001b[43mignore_gp\u001b[49m\u001b[43m)\u001b[49m\n\u001b[1;32m   3556\u001b[0m \u001b[38;5;28;01mreturn\u001b[39;00m g\n",
      "File \u001b[0;32m~/anaconda3/envs/gt/lib/python3.11/site-packages/graph_tool/__init__.py:3054\u001b[0m, in \u001b[0;36mGraph.load\u001b[0;34m(self, file_name, fmt, ignore_vp, ignore_ep, ignore_gp)\u001b[0m\n\u001b[1;32m   3052\u001b[0m \u001b[38;5;28;01mif\u001b[39;00m \u001b[38;5;28misinstance\u001b[39m(file_name, \u001b[38;5;28mstr\u001b[39m):\n\u001b[1;32m   3053\u001b[0m     file_name \u001b[38;5;241m=\u001b[39m os\u001b[38;5;241m.\u001b[39mpath\u001b[38;5;241m.\u001b[39mexpanduser(file_name)\n\u001b[0;32m-> 3054\u001b[0m     \u001b[38;5;28;01mwith\u001b[39;00m \u001b[38;5;28;43mopen\u001b[39;49m\u001b[43m(\u001b[49m\u001b[43mfile_name\u001b[49m\u001b[43m)\u001b[49m \u001b[38;5;28;01mas\u001b[39;00m f: \u001b[38;5;66;03m# throw the appropriate exception\u001b[39;00m\n\u001b[1;32m   3055\u001b[0m         \u001b[38;5;28;01mpass\u001b[39;00m\n\u001b[1;32m   3056\u001b[0m \u001b[38;5;28;01mif\u001b[39;00m fmt \u001b[38;5;241m==\u001b[39m \u001b[38;5;124m'\u001b[39m\u001b[38;5;124mauto\u001b[39m\u001b[38;5;124m'\u001b[39m \u001b[38;5;129;01mand\u001b[39;00m \u001b[38;5;28misinstance\u001b[39m(file_name, \u001b[38;5;28mstr\u001b[39m):\n",
      "\u001b[0;31mFileNotFoundError\u001b[0m: [Errno 2] No such file or directory: 'Left.gt'"
     ]
    }
   ],
   "source": [
    "# Upload the graph\n",
    "G = gt.load_graph(\"Left.gt\")\n",
    "\n",
    "# Take the property \"weight\" associate to each link\n",
    "weights = G.edge_properties[\"weight\"]\n",
    "\n",
    "# Create the weighted adjacency matrix\n",
    "adj_weigh = gt.adjacency(G, weight=weights)\n",
    "\n",
    "\n",
    "# get the property map for all the IDs for each node\n",
    "id_map = G.vertex_properties[\"id\"]\n",
    "\n",
    "# initialize an empty list to save the IDs\n",
    "ordered_ids = []\n",
    "\n",
    "# Loop through all the vertices of the graph and save their IDs in the list.\n",
    "for v in G.vertices():\n",
    "    ordered_ids.append(id_map[v])"
   ]
  },
  {
   "cell_type": "markdown",
   "id": "63be6d63-d229-42cb-91d4-b28daa4b09ad",
   "metadata": {},
   "source": [
    "We prepare the metrics that will be inserted into the CReMa to estimate the parameters."
   ]
  },
  {
   "cell_type": "code",
   "execution_count": null,
   "id": "4be53ad4-4c52-4da2-90d2-e90d1a6c615f",
   "metadata": {},
   "outputs": [],
   "source": [
    "# Lets store the binary structure and strength sequence\n",
    "adj_bin = adj_weigh.astype(bool).astype(int)\n",
    "\n",
    "out_strength =  np.array(adj_weigh.sum(axis=1)).flatten() \n",
    "in_strength =  np.array(adj_weigh.sum(axis=0)).flatten() \n",
    "\n",
    "# We can initialiase our graph instance with the strength sequence\n",
    "graph_weighted = DirectedGraph(strength_sequence=np.concatenate([out_strength, in_strength]))"
   ]
  },
  {
   "cell_type": "markdown",
   "id": "8fdad1ed-88e8-4a52-8f52-c720230412c2",
   "metadata": {
    "scrolled": true
   },
   "source": [
    "We use the internal solver to maximize the likelihood and estimate the parameters."
   ]
  },
  {
   "cell_type": "code",
   "execution_count": 2,
   "id": "5412b05d",
   "metadata": {},
   "outputs": [],
   "source": [
    "graph_weighted.solve_tool(model=\"crema\",\n",
    "                          method=\"quasinewton\",\n",
    "                          initial_guess=initial_values,\n",
    "                          adjacency=adj_bin,\n",
    "                          verbose=False,\n",
    "                          max_steps=1)"
   ]
  },
  {
   "cell_type": "code",
   "execution_count": 13,
   "id": "8ef99f46-9502-41b5-be11-d77a3a9711b8",
   "metadata": {},
   "outputs": [],
   "source": [
    "b_in = graph_weighted.b_in\n",
    "b_out = graph_weighted.b_out"
   ]
  },
  {
   "cell_type": "markdown",
   "id": "e3483047-233a-444d-8fdc-311e70b4541b",
   "metadata": {},
   "source": [
    "Once the parameters are estimated, we can proceed with the validation of the links using the 'Graph_validation' function."
   ]
  },
  {
   "cell_type": "code",
   "execution_count": null,
   "id": "4a410158-9797-42c0-b129-61b0f6ca48bc",
   "metadata": {},
   "outputs": [],
   "source": [
    "validated_edges = Graph_validation(adj_weigh,ordered_ids,b_in,b_out)"
   ]
  },
  {
   "cell_type": "markdown",
   "id": "ef64b525-54e3-490a-8e4e-7469da85fd43",
   "metadata": {},
   "source": [
    "As output, we have the list of all edges that have been determined as significant according to our model with the associated weights."
   ]
  },
  {
   "cell_type": "markdown",
   "id": "068ff47b-8a76-402f-8f3e-2554db78aa66",
   "metadata": {},
   "source": [
    "Given the edge list, one can proceed to create a new graph that will contain only the valid links."
   ]
  },
  {
   "cell_type": "code",
   "execution_count": null,
   "id": "2f72a0ee-3a03-4e39-9437-8dec7c0569d7",
   "metadata": {},
   "outputs": [],
   "source": [
    "# Create a directed graph\n",
    "graph = gt.Graph(directed=True)\n",
    "\n",
    "# Add vertices\n",
    "vertex_ids = set(edge[0] for edge in validated_edges) | set(edge[1] for edge in validated_edges)\n",
    "vertex_map = {v: graph.add_vertex() for v in vertex_ids}\n",
    "edges = [(vertex_map[source], vertex_map[target]) for source, target,weight in  validated_edges]\n",
    "\n",
    "\n",
    "graph.add_edge_list(edges)\n",
    "\n",
    "# Add weights as edge property\n",
    "weights = graph.new_edge_property(\"double\")\n",
    "for edge, weight in zip(graph.edges(), validated_edges):\n",
    "    weights[edge] = weight[2]\n",
    "\n",
    "graph.edge_properties[\"weight\"] = weights\n",
    "\n",
    "inverted_vmap = {j:i for i,j in vertex_map.items()}\n",
    "vertex_ids = graph.new_vertex_property(\"string\")\n",
    "for i in graph.vertices():\n",
    "    vertex_ids[i] = inverted_vmap[i]\n",
    "\n",
    "graph.vertex_properties[\"id\"] = vertex_ids\n",
    "#Need to define a the path where you want to save the graph.\n",
    "graph.save(path_to_save + \"Left.gt\")\n"
   ]
  }
 ],
 "metadata": {
  "kernelspec": {
   "display_name": "Python 3 (ipykernel)",
   "language": "python",
   "name": "python3"
  },
  "language_info": {
   "codemirror_mode": {
    "name": "ipython",
    "version": 3
   },
   "file_extension": ".py",
   "mimetype": "text/x-python",
   "name": "python",
   "nbconvert_exporter": "python",
   "pygments_lexer": "ipython3",
   "version": "3.11.7"
  }
 },
 "nbformat": 4,
 "nbformat_minor": 5
}
