{
 "cells": [
  {
   "cell_type": "code",
   "execution_count": 1,
   "id": "53af2392-87da-4726-84b5-5fd5318d8e24",
   "metadata": {},
   "outputs": [],
   "source": [
    "import numpy as np\n",
    "import networkx as nx\n",
    "import pickle\n",
    "import pandas as pd \n",
    "import glob\n",
    "import json\n",
    "from tqdm import tqdm\n",
    "\n",
    "import graph_tool.all as gt\n",
    "from utilities import build_CI_rank\n",
    "\n",
    "\n",
    "users_info = 'PATH TO USERS INFO'\n",
    "save = False"
   ]
  },
  {
   "cell_type": "markdown",
   "id": "38500d48-c003-43ef-a371-155e4d998a2e",
   "metadata": {},
   "source": [
    "# Top 1000 users by CI"
   ]
  },
  {
   "cell_type": "code",
   "execution_count": null,
   "id": "7a810783-39a4-44c0-a206-62dda1c29a1a",
   "metadata": {},
   "outputs": [],
   "source": [
    "validated_networks = ['Full.gt','Left.gt','Right.gt','Full_only_lr.gt']\n",
    "names = ['Full','Left','Right','Full_version2']"
   ]
  },
  {
   "cell_type": "code",
   "execution_count": null,
   "id": "c680746f-ad5d-4da2-bb8b-9dea6abad48b",
   "metadata": {},
   "outputs": [],
   "source": [
    "top_users_ci = []\n",
    "count_ = 0\n",
    "\n",
    "for V in validated_networks:\n",
    "    graph = gt.load_graph(f'PATH TO VALIDATED NETWORKS/{V}')\n",
    "    ci_ranking = build_CI_rank(graph, graph_file=None)\n",
    "\n",
    "    # Set or list of top 1000 user ids\n",
    "    user_set = [i[0] for i in ci_ranking['out_id'][:1000]]\n",
    "    \n",
    "    # Access the 'id' vertex property\n",
    "    id_property = graph.vertex_properties['id']    \n",
    "    # Get NumPy arrays for source and target vertices\n",
    "    edges = graph.get_edges()\n",
    "    sources = [id_property[edge[0]] for edge in edges]\n",
    "    targets = [id_property[edge[1]] for edge in edges] \n",
    "\n",
    "        \n",
    "    # Access the edge property map containing weights\n",
    "    weight_property = graph.edge_properties['weight']\n",
    "    # Get NumPy array for edge weights\n",
    "    weights = weight_property.get_array()\n",
    "    \n",
    "    # Check if source or target is in the set of users\n",
    "    user_mask = np.isin(sources, user_set) | np.isin(targets, user_set)\n",
    "    \n",
    "    # Count total edges and sum weights\n",
    "    den = len(graph.get_edges())\n",
    "    den2 = np.sum(weights)\n",
    "    \n",
    "    # Count edges involving users and sum weights\n",
    "    num = np.sum(user_mask)\n",
    "    num2 = np.sum(weights[user_mask])\n",
    "\n",
    "    \n",
    "    print(f'The top 1000 influencers account for {num/den:.4f} of the unique connections in the {names[count_]}')\n",
    "    print(f'The top 1000 influencers account for {num2/den2:.4f} of the connections in the {names[count_]}\\n')\n",
    "    \n",
    "    count_ += 1\n",
    "    top_users_ci.extend(user_set)\n",
    "    \n",
    "top_users_ci = set(top_users_ci)\n",
    "##\n",
    "print(f'We take to classify the top {len(top_users_ci)} users.')"
   ]
  },
  {
   "cell_type": "code",
   "execution_count": null,
   "id": "04c097fe-0806-4408-a4d8-64eeddbd0374",
   "metadata": {},
   "outputs": [],
   "source": [
    "top_users_ci"
   ]
  },
  {
   "cell_type": "code",
   "execution_count": null,
   "id": "d5198105-89f2-4949-ad08-e0151767adb1",
   "metadata": {},
   "outputs": [],
   "source": [
    "missing_ol = set(missing_ol)"
   ]
  },
  {
   "cell_type": "code",
   "execution_count": null,
   "id": "955994f8-366b-46d6-b8db-d2d49a52ab45",
   "metadata": {},
   "outputs": [],
   "source": [
    "len(missing_ol)"
   ]
  },
  {
   "cell_type": "code",
   "execution_count": null,
   "id": "e21e8a82-516c-48fc-8a2d-74c3cc29f2d2",
   "metadata": {},
   "outputs": [],
   "source": [
    "to_classify = []\n",
    "for line in open(users_info):\n",
    "    user_ = json.loads(line)\n",
    "    user_id = next(iter(user_.keys()), None)\n",
    "    if user_id in missing_ol:\n",
    "        followers = user_[user_id]['followers_count']\n",
    "        scree_name = user_[user_id]['screen_name']\n",
    "        name = user_[user_id]['name']\n",
    "        other_urls = user_[user_id].get('url','None')\n",
    "        profile = 'https://twitter.com/'+user_[user_id]['screen_name']\n",
    "        to_classify.append([user_id,followers,scree_name,name,other_urls,profile])\n",
    "    if len(to_classify)==len(missing_ol):\n",
    "        break\n",
    "to_classify  = pd.DataFrame(to_classify,columns =['User id','n° Followers','Scree_name','Name','Url','Profile'])\n",
    "if save: \n",
    "    to_classify.to_csv('PATH TO OL CLASSIFIED')\n",
    "\n",
    "# At this point all the user are hand labelled and classified as OL or sources. "
   ]
  },
  {
   "cell_type": "markdown",
   "id": "60492c1a-759c-4b2d-96a8-bd2c8b1df6ea",
   "metadata": {},
   "source": [
    "### Original categories"
   ]
  },
  {
   "cell_type": "code",
   "execution_count": null,
   "id": "cb32a1b6-4312-4c21-9e3d-12b3fbf7ffe2",
   "metadata": {},
   "outputs": [],
   "source": [
    "categories = pd.read_csv('PATH TO CATEGORIES',index_col=False)"
   ]
  },
  {
   "cell_type": "code",
   "execution_count": null,
   "id": "fd99c0d9-be85-479f-af88-dfe8fd30fc57",
   "metadata": {},
   "outputs": [],
   "source": [
    "txt = 'fox'\n",
    "for j,i in categories.iterrows():\n",
    "    if txt.lower() in i['url']:\n",
    "        print(i['url'],i['type'])\n",
    "    elif txt.lower() in i['username']:\n",
    "        print(i['username'],i['type'])\n",
    "    elif txt.lower() in i['name']:\n",
    "        print(i['name'],i['type'])"
   ]
  },
  {
   "cell_type": "code",
   "execution_count": null,
   "id": "c1a96105-7af6-41d0-9787-c7d74da8595a",
   "metadata": {},
   "outputs": [],
   "source": [
    "categories.groupby('type').count()"
   ]
  },
  {
   "cell_type": "markdown",
   "id": "bd4d43c1-1bb2-4f06-a4cc-11655bfc940c",
   "metadata": {},
   "source": [
    "### Classified users"
   ]
  },
  {
   "cell_type": "code",
   "execution_count": null,
   "id": "06a5407b-0214-4aca-9075-62ccb2ec7b01",
   "metadata": {},
   "outputs": [],
   "source": [
    "# Here is the file of labbeled users \n",
    "top_ci = pd.read_csv('PATH TO OL CLASSIFIED')\n",
    "# Replace NaN with zeros\n",
    "top_ci['S'] = top_ci['S'].fillna(0)\n"
   ]
  },
  {
   "cell_type": "code",
   "execution_count": null,
   "id": "1463cf30-2920-4aee-bae9-a487e0c63cc7",
   "metadata": {},
   "outputs": [],
   "source": [
    "OL = top_ci[(top_ci.OL==1) & (top_ci.S==0)]\n",
    "influencers = top_ci[(top_ci.OL==0) & (top_ci.S==0)]\n",
    "sources_ = top_ci[(top_ci.OL==0) & (top_ci.S==1)]\n",
    "print('N° Influencers ', len(influencers))\n",
    "print('N° OL ', len(OL))\n",
    "print('N° Sources ', len(sources_))"
   ]
  },
  {
   "cell_type": "code",
   "execution_count": null,
   "id": "0d1ad53d-673a-49cb-a099-71d0e24fd5e4",
   "metadata": {},
   "outputs": [],
   "source": [
    "set(OL) &  set(influencers)"
   ]
  },
  {
   "cell_type": "code",
   "execution_count": null,
   "id": "e207f900-97f9-4692-8ec7-2160ceb0d7d5",
   "metadata": {},
   "outputs": [],
   "source": [
    "from  utilities import build_CI_rank,get_classes\n",
    "import graph_tool.all as gt\n",
    "validated_networks = ['Full.gt','Left.gt','Right.gt','Full_only_lr.gt']\n",
    "for G,category in zip(validated_networks,['all','left','right','all_2']):\n",
    "    print(G,category)\n",
    "    \n",
    "    V = gt.load_graph(f'PATH TO VALIDATED GRAPH/{G}')\n",
    "    \n",
    "    OL,OLI,I,A,S =  get_classes(V,category=category,top=1000)\n",
    "    print('\\n')"
   ]
  },
  {
   "cell_type": "code",
   "execution_count": null,
   "id": "02fea0db-1191-43f5-a03f-63af6e2c23a7",
   "metadata": {},
   "outputs": [],
   "source": []
  }
 ],
 "metadata": {
  "kernelspec": {
   "display_name": "Python 3 (ipykernel)",
   "language": "python",
   "name": "python3"
  },
  "language_info": {
   "codemirror_mode": {
    "name": "ipython",
    "version": 3
   },
   "file_extension": ".py",
   "mimetype": "text/x-python",
   "name": "python",
   "nbconvert_exporter": "python",
   "pygments_lexer": "ipython3",
   "version": "3.11.7"
  }
 },
 "nbformat": 4,
 "nbformat_minor": 5
}
