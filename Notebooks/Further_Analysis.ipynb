{
 "cells": [
  {
   "cell_type": "markdown",
   "id": "17d09e18-96f9-46aa-b3e5-f6bd6e863993",
   "metadata": {},
   "source": [
    "### This notebook contains analyses related to temporal filters and the distribution of CI.\n",
    "\n",
    "All these analyses are described in the following sections of the main text:\n",
    "\n",
    "- Appendix: Temporal Filtering\n",
    "- Appendix: Identifying Influencers\n",
    "- Appendix: Further Analysisù\n"
   ]
  },
  {
   "cell_type": "code",
   "execution_count": 1,
   "id": "8da5b5f4-1192-4423-ad6d-74499488da58",
   "metadata": {},
   "outputs": [],
   "source": [
    "import numpy as np\n",
    "import networkx as nx\n",
    "import pickle\n",
    "import pandas as pd \n",
    "import glob\n",
    "import json\n",
    "import sys\n",
    "import os\n",
    "from tqdm import tqdm\n",
    "import random\n",
    "\n",
    "\n",
    "# Save the current working directory\n",
    "current_directory = os.getcwd()\n",
    "\n",
    "# Add the parent directory to the system path\n",
    "sys.path.append(os.path.abspath(os.path.join(current_directory, os.pardir)))\n",
    "\n",
    "# Import libraries from the parent folder\n",
    "import graph_tool.all as gt\n",
    "from utilities import build_CI_rank, get_classes\n",
    "\n",
    "# Return to the current working directory\n",
    "os.chdir(current_directory)\n",
    "\n",
    "import warnings\n",
    "warnings.filterwarnings(\"ignore\")"
   ]
  },
  {
   "cell_type": "code",
   "execution_count": 2,
   "id": "9ac976a9-c599-4744-ac68-94b79cd1c123",
   "metadata": {
    "scrolled": true
   },
   "outputs": [],
   "source": [
    "import pickle\n",
    "import pandas as pd\n",
    "import graph_tool.all as gt\n",
    "from  utilities import build_CI_rank,get_classes\n",
    "\n",
    "retweet_net = '...'\n",
    "bfs_path = '...'\n",
    "\n",
    "validated_path = '...'\n",
    "validated_path_with_dt = '...'\n",
    "\n",
    "filtered_dt_path =  '...'\n",
    "\n",
    "validated_networks = ['Left.gt','Right.gt','Full.gt','Full_only_lr.gt']"
   ]
  },
  {
   "cell_type": "code",
   "execution_count": 104,
   "id": "9d0db487-43b3-443d-8d0b-aced29a2a85b",
   "metadata": {},
   "outputs": [],
   "source": [
    "# Create a mapping of node information.\n",
    "\n",
    "ver_to_id = {str(i): int(V.vp.id[i]) for i in V.vertices()}"
   ]
  },
  {
   "cell_type": "markdown",
   "id": "5551d832-01fb-4673-ab47-e82963a9e125",
   "metadata": {},
   "source": [
    "# Add delta t as information to the edges."
   ]
  },
  {
   "cell_type": "code",
   "execution_count": 2,
   "id": "b709e2cd-8aad-4b34-a35c-56e8fc797458",
   "metadata": {},
   "outputs": [],
   "source": [
    "filename0 = 'right_retweet_edges_dt.csv'\n",
    "\n",
    "path_edges = '...'\n",
    "\n",
    "edges_with_dt = pd.read_csv(path_edges + filename0, usecols=['auth_id', 'infl_id', 'delta_t'])\n",
    "\n",
    "for filename in os.listdir(path_edges):\n",
    "\n",
    "    if filename == filename0: continue        \n",
    "    edges2 = pd.read_csv(path_edges + filename, usecols=['auth_id', 'infl_id', 'delta_t'])\n",
    "    edges_with_dt = pd.concat([edges_with_dt, edges2])\n",
    "\n",
    "del edges2"
   ]
  },
  {
   "cell_type": "code",
   "execution_count": 3,
   "id": "23d49cb1-5760-43ed-b9e9-06c4ac06fcfb",
   "metadata": {
    "scrolled": true
   },
   "outputs": [],
   "source": [
    "grouped_edges = edges_with_dt.groupby(['infl_id','auth_id']).agg({'delta_t': 'mean'})#.reset_index()"
   ]
  },
  {
   "cell_type": "code",
   "execution_count": 77,
   "id": "6c07bfd6-a25f-4a4c-8efa-991b9c12c4d1",
   "metadata": {},
   "outputs": [],
   "source": [
    "validated_networks = ['Full_only_lr.gt']"
   ]
  },
  {
   "cell_type": "code",
   "execution_count": 78,
   "id": "1a6c9453-85b9-4d2f-b9c6-807cc7b8a18e",
   "metadata": {},
   "outputs": [
    {
     "name": "stderr",
     "output_type": "stream",
     "text": [
      "15230741it [21:45, 11665.74it/s]\n"
     ]
    }
   ],
   "source": [
    "for i in range(len(validated_networks)):\n",
    "\n",
    "    to_check = validated_networks[i]\n",
    "    \n",
    "    V = gt.load_graph(validated_path + to_check)\n",
    "\n",
    "    # Creo un mapping delle informazioni sui nodi.\n",
    "    ver_to_id = {str(i): int(V.vp.id[i]) for i in V.vertices()}\n",
    "    \n",
    "    delta_t_prop = V.new_edge_property(\"float\")\n",
    "    V.edge_properties['delta_t'] = delta_t_prop\n",
    "    \n",
    "    # Iterare su tutti gli edges e assegnare il valore di delta_t\n",
    "    for edge in tqdm(V.edges()):\n",
    "        # Ottieni i nodi sorgente e destinazione come stringhe\n",
    "        targ_ = str(edge.target())\n",
    "        sour_ = str(edge.source())\n",
    "    \n",
    "        # Ottieni l'ID dei nodi dai dizionari ver_to_id\n",
    "        edge_ = (ver_to_id[sour_], ver_to_id[targ_])\n",
    "    \n",
    "        try:\n",
    "            # Ottieni il valore delta_t dal DataFrame\n",
    "            delta_t_value = grouped_edges.loc[edge_]['delta_t']\n",
    "    \n",
    "            # Assegna il valore alla proprietà delta_t dell'edge\n",
    "            delta_t_prop[edge] = delta_t_value\n",
    "        except KeyError:\n",
    "            print(f\"Edge {edge_} non trovato in grouped_edges\")\n",
    "    \n",
    "            # Assegna il valore alla proprietà delta_t dell'edge\n",
    "            delta_t_prop[edge] = 'None'\n",
    "            continue\n",
    "    \n",
    "    \n",
    "    file_name = to_check.split('.')[0] + '_with_dt.' + to_check.split('.')[1]\n",
    "    \n",
    "    \n",
    "    V.save(validated_path_with_dt + file_name)"
   ]
  },
  {
   "cell_type": "code",
   "execution_count": 206,
   "id": "59e02809-080c-4940-94c6-6bd2b48f7051",
   "metadata": {},
   "outputs": [
    {
     "data": {
      "text/plain": [
       "['Full_with_dt.gt',\n",
       " 'Full_only_lr_with_dt.gt',\n",
       " 'Right_with_dt.gt',\n",
       " 'Left_with_dt.gt']"
      ]
     },
     "execution_count": 206,
     "metadata": {},
     "output_type": "execute_result"
    }
   ],
   "source": []
  },
  {
   "cell_type": "markdown",
   "id": "0f94b29a-8837-489f-800b-9dbaa2053d78",
   "metadata": {},
   "source": [
    "### Remove connections that are above the 75th percentile."
   ]
  },
  {
   "cell_type": "code",
   "execution_count": 103,
   "id": "ee57ee3b-1890-4dd8-97a9-597ea3ada0ee",
   "metadata": {},
   "outputs": [],
   "source": [
    "# Function to remove connections with delta_t above the 75th percentile\n",
    "def remove_high_percentile_edges(graph, delta_t_prop):\n",
    "    edges_to_remove = set()\n",
    "\n",
    "    for vertex in tqdm(graph.vertices()):\n",
    "        delta_t_values = []\n",
    "\n",
    "        # Collect all delta_t values for adjacent edges\n",
    "        for edge in vertex.all_edges():\n",
    "            delta_t_values.append(delta_t_prop[edge])\n",
    "\n",
    "        if len(delta_t_values) > 1:\n",
    "            # Calculate the 75th percentile\n",
    "            threshold = np.percentile(delta_t_values, 75)\n",
    "\n",
    "            # Remove edges with delta_t above the 75th percentile\n",
    "            for edge in vertex.all_edges():\n",
    "                if delta_t_prop[edge] > threshold:\n",
    "                    edges_to_remove.add(edge)\n",
    "\n",
    "    # Remove edges one by one\n",
    "    for edge in edges_to_remove:\n",
    "        graph.remove_edge(edge)\n",
    "\n",
    "\n",
    "# Function to keep only the edge with the smallest delta_t for each node\n",
    "def keep_minimum_delta_t_edge(graph, delta_t_prop):\n",
    "    edges_to_keep = set()\n",
    "    edges_to_remove = set()\n",
    "\n",
    "    for vertex in tqdm(graph.vertices()):\n",
    "        delta_t_values = []\n",
    "\n",
    "        # Collect all delta_t values for adjacent edges and the edges themselves\n",
    "        edges = list(vertex.all_edges())\n",
    "        if len(edges) > 1:\n",
    "            # Find the edge with the minimum delta_t\n",
    "            min_edge = min(edges, key=lambda e: delta_t_prop[e])\n",
    "            edges_to_keep.add(min_edge)\n",
    "\n",
    "    # Remove edges that are not the ones with the minimum delta_t\n",
    "    for edge in graph.edges():\n",
    "        if edge not in edges_to_keep:\n",
    "            edges_to_remove.add(edge)\n",
    "            \n",
    "    for edge in edges_to_remove:\n",
    "        graph.remove_edge(edge)\n"
   ]
  },
  {
   "cell_type": "code",
   "execution_count": 104,
   "id": "fdc52d5e-ead1-4d68-bc57-ade946bcd42e",
   "metadata": {},
   "outputs": [
    {
     "name": "stderr",
     "output_type": "stream",
     "text": [
      "1937486it [05:38, 5724.37it/s]\n",
      "1776399it [05:01, 5884.94it/s]\n",
      "630818it [01:07, 9391.19it/s] \n",
      "936866it [02:15, 6927.76it/s]\n"
     ]
    }
   ],
   "source": [
    "import graph_tool.all as gt\n",
    "import numpy as np\n",
    "from tqdm import tqdm\n",
    "\n",
    "\n",
    "path_1 = '...'\n",
    "\n",
    "for file in os.listdir(validated_path_with_dt):\n",
    "\n",
    "    V = gt.load_graph(validated_path_with_dt + file)\n",
    "    \n",
    "    # Assume the delta_t property exists on the edges\n",
    "    delta_t_prop = V.ep['delta_t']    \n",
    "    \n",
    "    # Apply the function to the graph\n",
    "    remove_high_percentile_edges(V, delta_t_prop)\n",
    "\n",
    "    # Optionally apply the function to keep the edge with minimum delta_t\n",
    "    #keep_minimum_delta_t_edge(V, delta_t_prop)\n",
    "    \n",
    "    # Save the modified graph\n",
    "    V.save(path_1 + 'Filtered_' + file)\n"
   ]
  },
  {
   "cell_type": "code",
   "execution_count": 17,
   "id": "6119fd5e-be66-4c6e-b75d-1b81c4d5d54d",
   "metadata": {},
   "outputs": [
    {
     "name": "stdout",
     "output_type": "stream",
     "text": [
      "Full_with_dt.gt 17171765\n",
      "Full_only_lr_with_dt.gt 15230741\n",
      "Right_with_dt.gt 2449246\n",
      "Left_with_dt.gt 6536347\n",
      "Filtered_Full_only_lr_with_dt.gt 917344\n",
      "Filtered_Left_with_dt.gt 439737\n",
      "Filtered_Full_with_dt.gt 1014599\n",
      "Filtered_Right_with_dt.gt 296558\n"
     ]
    }
   ],
   "source": [
    "import graph_tool.all as gt\n",
    "import numpy as np\n",
    "from tqdm import tqdm\n",
    "\n",
    "for file in os.listdir(validated_path_with_dt):\n",
    "\n",
    "    V = gt.load_graph(validated_path_with_dt + file)\n",
    "    print(file,V.num_edges())\n",
    "    \n",
    "for file in os.listdir(filtered_dt_path):\n",
    "    \n",
    "    V = gt.load_graph(filtered_dt_path + file)\n",
    "    print(file,V.num_edges())\n",
    "    \n"
   ]
  },
  {
   "cell_type": "code",
   "execution_count": 40,
   "id": "0581dfb9-c92f-45b0-96b7-d5ad201b60b3",
   "metadata": {},
   "outputs": [
    {
     "name": "stdout",
     "output_type": "stream",
     "text": [
      "Full.gt  Full_only_lr.gt  Left.gt  Right.gt\n"
     ]
    }
   ],
   "source": [
    "ls '...'"
   ]
  },
  {
   "cell_type": "code",
   "execution_count": 122,
   "id": "d110191b-20a4-4ee8-9de2-d95e35669742",
   "metadata": {},
   "outputs": [],
   "source": [
    "V = gt.load_graph(validated_path  + 'Full_only_lr.gt')"
   ]
  },
  {
   "cell_type": "code",
   "execution_count": 1,
   "id": "8b101c18-3a72-4948-a289-16ea1d720556",
   "metadata": {},
   "outputs": [
    {
     "ename": "NameError",
     "evalue": "name 'pd' is not defined",
     "output_type": "error",
     "traceback": [
      "\u001b[0;31m---------------------------------------------------------------------------\u001b[0m",
      "\u001b[0;31mNameError\u001b[0m                                 Traceback (most recent call last)",
      "Cell \u001b[0;32mIn[1], line 9\u001b[0m\n\u001b[1;32m      3\u001b[0m bfs_path_75 \u001b[38;5;241m=\u001b[39m \u001b[38;5;124m'\u001b[39m\u001b[38;5;124m.\u001b[39m\u001b[38;5;124m'\u001b[39m\n\u001b[1;32m      5\u001b[0m bfs_path_PNAS \u001b[38;5;241m=\u001b[39m \u001b[38;5;124m'\u001b[39m\u001b[38;5;124m...\u001b[39m\u001b[38;5;124m'\u001b[39m\n\u001b[0;32m----> 9\u001b[0m bfs_info \u001b[38;5;241m=\u001b[39m \u001b[43mpd\u001b[49m\u001b[38;5;241m.\u001b[39mread_csv(path \u001b[38;5;241m+\u001b[39m \u001b[38;5;124m'\u001b[39m\u001b[38;5;124mFull_only_lr_bfs.csv\u001b[39m\u001b[38;5;124m'\u001b[39m)\n",
      "\u001b[0;31mNameError\u001b[0m: name 'pd' is not defined"
     ]
    }
   ],
   "source": [
    "bfs_path_1 = '...'\n",
    "bfs_path_20 = '...'\n",
    "bfs_path_75 = '.'\n",
    "\n",
    "bfs_path_PNAS = '...'\n",
    "\n",
    "\n",
    "\n",
    "bfs_info = pd.read_csv(path + 'Full_only_lr_bfs.csv')"
   ]
  },
  {
   "cell_type": "code",
   "execution_count": 222,
   "id": "3d4294b9-6af3-4b86-9b5d-e7651a97ece0",
   "metadata": {},
   "outputs": [],
   "source": [
    "def analize_bfs_2(df):\n",
    "    \n",
    "    for step in range(3):\n",
    "        \n",
    "        if step == 0:\n",
    "            print('Step 0:')\n",
    "            # Filter data for the selected step\n",
    "            filtered_data = df[df['Steps'] == step]\n",
    "    \n",
    "            filtered_data = add_percentage_column_and_filter(filtered_data)\n",
    "\n",
    "            selected_rows = filtered_data[filtered_data['Sources'] == 'S']\n",
    "\n",
    "            for index, row in selected_rows.iterrows():\n",
    "                print(f'Sources: {row[\"Sources\"]}, Target: {row[\"Targets\"]} ,  Percentage: {row[\"Percentage\"]:.1f}')\n",
    "            print('\\n')\n",
    "        else:\n",
    "            \n",
    "            print(f'Step: {step}')\n",
    "            # Filter data for the selected step\n",
    "            filtered_data = df[df['Steps'] == step]\n",
    "    \n",
    "            filtered_data = add_percentage_column_and_filter(filtered_data)\n",
    "\n",
    "            selected_rows = filtered_data[filtered_data['Targets'] == 'A']\n",
    "\n",
    "            for index, row in selected_rows.iterrows():\n",
    "                print(f'Sources: {row[\"Sources\"]}, Target: {row[\"Targets\"]} ,  Percentage: {row[\"Percentage\"]:.1f}')\n",
    "\n",
    "            print('\\n')\n",
    "    \n",
    "\n",
    "def add_percentage_column_and_filter(df):\n",
    "    # Calculate the total connections for each step\n",
    "    df['Total_Connections'] = df.groupby('Steps')['Connections'].transform('sum')\n",
    "    \n",
    "    # Add a column with the percentage of total connections\n",
    "    df['Percentage'] = (df['Connections'] / df['Total_Connections']) * 100\n",
    "    \n",
    "    # Filter rows with percentage above 1%\n",
    "    filtered_df = df[df['Percentage'] > 1].drop(columns=['Total_Connections'])\n",
    "    \n",
    "    return filtered_df\n",
    "\n",
    "\n",
    "def all_sides_and_steps(filtering_level):\n",
    "    \n",
    "    'filtering level: 0 = Original, 1 = taking 75% links, 2 = taking 20% links, 3 = only the fastest link'\n",
    "\n",
    "    \n",
    "    if filtering_level == 0:\n",
    "        validated_bfs = ['Left_bfs.csv', 'Right_bfs.csv', 'Full_only_lr_bfs.csv']\n",
    "    else:\n",
    "        validated_bfs = ['Filtered_Left_with_dt_bfs.csv', 'Filtered_Right_with_dt_bfs.csv', 'Filtered_Full_only_lr_with_dt_bfs.csv']\n",
    "\n",
    "\n",
    "    path = path_list[filtering_level]\n",
    "\n",
    "    for number in range(3):\n",
    "    \n",
    "        to_check_original = validated_bfs[number]\n",
    "        if filtering_level > 0:\n",
    "            print(to_check_original.split('_')[1])\n",
    "        else:\n",
    "            print(to_check_original.split('_')[0])\n",
    "\n",
    "        print(' ')\n",
    "        to_check = validated_bfs[number]\n",
    "\n",
    "        bfs_info = pd.read_csv(path + to_check)\n",
    "        analize_bfs_2(bfs_info)\n"
   ]
  },
  {
   "cell_type": "markdown",
   "id": "de4ef339-1872-4507-833e-ade51d8e57d0",
   "metadata": {},
   "source": [
    "### BFS considering the filtering over delta t"
   ]
  },
  {
   "cell_type": "code",
   "execution_count": 227,
   "id": "b388cf69-38d6-49bc-b55f-aa5ced5b9cf9",
   "metadata": {
    "scrolled": true
   },
   "outputs": [
    {
     "name": "stdout",
     "output_type": "stream",
     "text": [
      "Left\n",
      " \n",
      "step 0:\n",
      "Sources: S, Target: A ,  Percentage: 99.2\n",
      "\n",
      "\n",
      "step:  1\n",
      "Sources: OLI, Target: A ,  Percentage: 15.9\n",
      "Sources: I, Target: A ,  Percentage: 1.9\n",
      "Sources: A, Target: A ,  Percentage: 81.6\n",
      "\n",
      "\n",
      "step:  2\n",
      "Sources: OL, Target: A ,  Percentage: 7.2\n",
      "Sources: A, Target: A ,  Percentage: 92.3\n",
      "\n",
      "\n",
      "Right\n",
      " \n",
      "step 0:\n",
      "Sources: S, Target: A ,  Percentage: 100.0\n",
      "\n",
      "\n",
      "step:  1\n",
      "Sources: A, Target: A ,  Percentage: 98.0\n",
      "\n",
      "\n",
      "step:  2\n",
      "Sources: OL, Target: A ,  Percentage: 1.1\n",
      "Sources: OLI, Target: A ,  Percentage: 11.0\n",
      "Sources: I, Target: A ,  Percentage: 13.4\n",
      "Sources: A, Target: A ,  Percentage: 74.4\n",
      "\n",
      "\n",
      "Full\n",
      " \n",
      "step 0:\n",
      "Sources: S, Target: A ,  Percentage: 99.9\n",
      "\n",
      "\n",
      "step:  1\n",
      "Sources: OL, Target: A ,  Percentage: 4.4\n",
      "Sources: I, Target: A ,  Percentage: 9.4\n",
      "Sources: A, Target: A ,  Percentage: 85.8\n",
      "\n",
      "\n",
      "step:  2\n",
      "Sources: OL, Target: A ,  Percentage: 3.9\n",
      "Sources: OLI, Target: A ,  Percentage: 1.9\n",
      "Sources: I, Target: A ,  Percentage: 2.7\n",
      "Sources: A, Target: A ,  Percentage: 91.5\n",
      "\n",
      "\n"
     ]
    }
   ],
   "source": [
    "all_sides_and_steps(3)"
   ]
  },
  {
   "cell_type": "markdown",
   "id": "e989318c-626a-4537-a48d-14cf1615dec2",
   "metadata": {},
   "source": [
    "### Now check how many links, before the BFS, go from OL, I, OLI to Adp"
   ]
  },
  {
   "cell_type": "code",
   "execution_count": 4,
   "id": "0d5821a3-9d61-45c9-aa80-82cf9f9a12d1",
   "metadata": {},
   "outputs": [
    {
     "name": "stdout",
     "output_type": "stream",
     "text": [
      "Left.gt\n"
     ]
    }
   ],
   "source": [
    "validated_networks_new = ['Filtered_Left_with_dt.gt','Filtered_Right_with_dt.gt','Filtered_Full_only_lr_with_dt.gt']\n",
    "validated_networks_original = ['Left.gt','Right.gt','Full_only_lr.gt']\n",
    "\n",
    "validated_path_original = '...'\n",
    "validated_path_1 = '...'\n",
    "validated_path_20 = '...'\n",
    "validated_path_75 =  '...'\n",
    "\n",
    "\n",
    "number = 0\n",
    "to_check_old = validated_networks_original[number]\n",
    "to_check_new = validated_networks_new[number]\n",
    "\n",
    "\n",
    "print(to_check_old)"
   ]
  },
  {
   "cell_type": "code",
   "execution_count": 9,
   "id": "df56e934-0e82-47aa-adac-30a2ced86a89",
   "metadata": {},
   "outputs": [],
   "source": [
    "def count_links(vertex, target_set):\n",
    "    count = 0\n",
    "    for e in vertex.in_edges():\n",
    "        if int(e.source()) in target_set:\n",
    "            count += 1\n",
    "    return count\n",
    "\n",
    "\n",
    "def get_percentage_without_BFS(V):\n",
    "\n",
    "    # Save the current directory\n",
    "    current_directory = os.getcwd()\n",
    "    \n",
    "    os.chdir('..')\n",
    "    \n",
    "    OL, OLI, I, A, S = get_classes(V, category='all', top=1000)\n",
    "    \n",
    "    # Return to the current directory (optional, if needed)\n",
    "    os.chdir(current_directory)\n",
    "    \n",
    "    vertex_labels = V.vertex_properties[\"id\"]\n",
    "    \n",
    "    id_to_index = {vertex_labels[v]: int(v) for v in V.vertices()}\n",
    "\n",
    "    index_OL = {id_to_index[id_] for id_ in OL if id_ in id_to_index}\n",
    "    index_ADP = {id_to_index[id_] for id_ in A if id_ in id_to_index}\n",
    "    index_I = {id_to_index[id_] for id_ in I if id_ in id_to_index}\n",
    "    index_OLI = {id_to_index[id_] for id_ in OLI if id_ in id_to_index}\n",
    "\n",
    "    # Initialize counters\n",
    "    link_coming_from_ADP = 0\n",
    "    link_coming_from_OL = 0\n",
    "    link_coming_from_I = 0\n",
    "    link_coming_from_OLI = 0\n",
    "    \n",
    "    # Iterate over all nodes in the index_ADP set\n",
    "    for v in index_ADP:\n",
    "        vertex = V.vertex(v)\n",
    "        link_coming_from_ADP += count_links(vertex, index_ADP)\n",
    "        link_coming_from_OL += count_links(vertex, index_OL)\n",
    "        link_coming_from_I += count_links(vertex, index_I)\n",
    "        link_coming_from_OLI += count_links(vertex, index_OLI)\n",
    "\n",
    "    print()\n",
    "    # Print the results\n",
    "    print(\"Links coming from ADP:\", link_coming_from_ADP / V.num_edges())\n",
    "    print(\"Links coming from OL:\", link_coming_from_OL / V.num_edges())\n",
    "    print(\"Links coming from I:\", link_coming_from_I / V.num_edges())\n",
    "    print(\"Links coming from OLI:\", link_coming_from_OLI / V.num_edges())\n",
    "\n",
    "    return"
   ]
  },
  {
   "cell_type": "code",
   "execution_count": null,
   "id": "d190d1cd-9e35-4e46-86c6-ab215ffddb3d",
   "metadata": {
    "scrolled": true
   },
   "outputs": [],
   "source": [
    "number = 0\n",
    "to_check_old = validated_networks_original[number]\n",
    "to_check_new = validated_networks_new[number]\n",
    "\n",
    "\n",
    "print(to_check_old)\n",
    "\n",
    "\n",
    "V = gt.load_graph(validated_path_original + to_check_old)\n",
    "\n",
    "get_percentage_without_BFS(V)"
   ]
  },
  {
   "cell_type": "code",
   "execution_count": null,
   "id": "bed9aa39-322d-414e-af25-be28c3af1ffc",
   "metadata": {},
   "outputs": [],
   "source": [
    "#Right \n",
    "\n",
    "Link coming from ADP to ADP: 35.39%\n",
    "Link coming from OL to ADP: 2.99%\n",
    "Link coming from I to ADP: 27.17%\n",
    "Link coming from OLI to ADP: 28.88%\n",
    "\n",
    "\n",
    "#Left \n",
    "\n",
    "Link coming from ADP to ADP: 42.48%\n",
    "Link coming from OL to ADP: 3.27%\n",
    "Link coming from I to ADP: 17.62%\n",
    "Link coming from OLI to ADP: 27.66%\n",
    "\n",
    "\n",
    "#Full \n",
    "\n",
    "Link coming from ADP to ADP: 31.49%\n",
    "Link coming from OL to ADP: 3.5%\n",
    "Link coming from I to ADP: 23.75%\n",
    "Link coming from OLI to ADP: 33.25%"
   ]
  },
  {
   "cell_type": "markdown",
   "id": "897a53dc-dd42-4123-8623-3253210bf24c",
   "metadata": {},
   "source": [
    "### Top 0.1% for the CI"
   ]
  },
  {
   "cell_type": "code",
   "execution_count": 298,
   "id": "a2fd896d-04fc-41df-b298-81eacf750a04",
   "metadata": {},
   "outputs": [],
   "source": [
    "CI_out = V.vertex_properties[\"CI_out\"]\n",
    "\n",
    "CI_out_values = [CI_out[v] for v in V.vertices()]"
   ]
  },
  {
   "cell_type": "code",
   "execution_count": 303,
   "id": "cb94777f-2cea-4483-a108-00324a110d11",
   "metadata": {},
   "outputs": [
    {
     "name": "stdout",
     "output_type": "stream",
     "text": [
      "Soglia per il top 0.1%: 21931203.846005842\n",
      "Numero di nodi nel top 0.1%: 631\n"
     ]
    }
   ],
   "source": [
    "# Calculate the threshold for the top 0.1%\n",
    "threshold = np.percentile(CI_out_values, 99.9)\n",
    "\n",
    "# Count the nodes that are in the top 0.1%\n",
    "top_nodes = [v for v in V.vertices() if CI_out[v] >= threshold]\n",
    "num_top_nodes = len(top_nodes)\n",
    "\n",
    "# Print only the essential information\n",
    "print(f\"Threshold for the top 0.1%: {threshold}\")\n",
    "print(f\"Number of nodes in the top 0.1%: {num_top_nodes}\")"
   ]
  },
  {
   "cell_type": "code",
   "execution_count": 326,
   "id": "22c9871c-dd93-47fe-880c-786da1c76362",
   "metadata": {},
   "outputs": [
    {
     "data": {
      "image/png": "[encoded data removed]",
      "text/plain": [
       "<Figure size 1000x600 with 1 Axes>"
      ]
     },
     "metadata": {},
     "output_type": "display_data"
    }
   ],
   "source": [
    "import numpy as np\n",
    "import matplotlib.pyplot as plt\n",
    "import seaborn as sns\n",
    "\n",
    "plt.figure(figsize=(10, 6))\n",
    "sns.histplot(CI_out_values, bins=100, color='skyblue', kde=True, log_scale=(True, False))\n",
    "#plt.title('Distribution of CI_out_values')\n",
    "plt.xlabel('CI (Log Scale)')\n",
    "plt.ylabel('Frequency')\n",
    "#plt.grid(True)\n",
    "plt.savefig('CI_distribution.pdf',format='pdf')\n",
    "plt.show()\n",
    "\n"
   ]
  },
  {
   "cell_type": "code",
   "execution_count": 327,
   "id": "cf449846-a9b0-42ed-b2fd-d666b6a42198",
   "metadata": {},
   "outputs": [
    {
     "name": "stdout",
     "output_type": "stream",
     "text": [
      "BSF_With_time.ipynb  CI_distribution.pdf\n"
     ]
    }
   ],
   "source": [
    "ls"
   ]
  },
  {
   "cell_type": "markdown",
   "id": "5a7fda5f-7fe6-403b-9163-742716014b34",
   "metadata": {},
   "source": [
    "### Here I calculate the percentage of connections that go to adopters"
   ]
  },
  {
   "cell_type": "code",
   "execution_count": 7,
   "id": "5e3c66d8-117c-4c61-8be9-4b3bc40458a7",
   "metadata": {},
   "outputs": [],
   "source": [
    "def get_percentage_without_BFS_to_adps(V):\n",
    "\n",
    "    # Save the current directory\n",
    "    current_directory = os.getcwd()\n",
    "    \n",
    "    os.chdir('..')\n",
    "    \n",
    "    OL, OLI, I, A, S = get_classes(V, category='all', top=1000)\n",
    "    \n",
    "    # Return to the current directory (optional, if needed)\n",
    "    os.chdir(current_directory)\n",
    "    \n",
    "    vertex_labels = V.vertex_properties[\"id\"]\n",
    "    \n",
    "    id_to_index = {vertex_labels[v]: int(v) for v in V.vertices()}\n",
    "\n",
    "    index_OL = {id_to_index[id_] for id_ in OL if id_ in id_to_index}\n",
    "    index_ADP = {id_to_index[id_] for id_ in A if id_ in id_to_index}\n",
    "    index_I = {id_to_index[id_] for id_ in I if id_ in id_to_index}\n",
    "    index_OLI = {id_to_index[id_] for id_ in OLI if id_ in id_to_index}\n",
    "\n",
    "    # Initialize counters\n",
    "    link_coming_from_ADP_OL = 0\n",
    "    link_coming_from_ADP_I = 0\n",
    "    link_coming_from_ADP_OLI = 0\n",
    "    \n",
    "    # Iterate over all nodes in the index_OL set\n",
    "    for v in index_OL:\n",
    "        vertex = V.vertex(v)\n",
    "        link_coming_from_ADP_OL += count_links(vertex, index_ADP)\n",
    "        \n",
    "    # Iterate over all nodes in the index_I set\n",
    "    for v in index_I:\n",
    "        vertex = V.vertex(v)\n",
    "        link_coming_from_ADP_I += count_links(vertex, index_ADP)\n",
    "        \n",
    "    # Iterate over all nodes in the index_OLI set\n",
    "    for v in index_OLI:\n",
    "        vertex = V.vertex(v)\n",
    "        link_coming_from_ADP_OLI += count_links(vertex, index_ADP)\n",
    "\n",
    "    print()\n",
    "    # Print the results\n",
    "    print(\"Links coming from OL:\", link_coming_from_ADP_OL / V.num_edges())\n",
    "    print(\"Links coming from I:\", link_coming_from_ADP_I / V.num_edges())\n",
    "    print(\"Links coming from OLI:\", link_coming_from_ADP_OLI / V.num_edges())\n",
    "    \n",
    "    return\n"
   ]
  },
  {
   "cell_type": "code",
   "execution_count": 10,
   "id": "5445df02-be03-420e-8811-eb81e61e2aca",
   "metadata": {},
   "outputs": [
    {
     "name": "stdout",
     "output_type": "stream",
     "text": [
      "Full_only_lr.gt\n",
      "N° Influencers: 403\n",
      "N° OL: 1184\n",
      "N° OLI: 511\n",
      "N° Sources: 259\n",
      "N° Adopters: 1774053\n",
      "Number of nodes does not sum to the total!\n",
      "\n",
      "Link coming from OL: 0.0005590666928155367\n",
      "Link coming from I: 0.0005653040781141246\n",
      "Link coming from OLI: 0.00039735427186372613\n"
     ]
    }
   ],
   "source": [
    "number = 2\n",
    "to_check_old = validated_networks_original[number]\n",
    "to_check_new = validated_networks_new[number]\n",
    "\n",
    "\n",
    "print(to_check_old)\n",
    "\n",
    "\n",
    "V = gt.load_graph(validated_path_original + to_check_old)\n",
    "\n",
    "get_percentage_without_BFS_to_adps(V)"
   ]
  },
  {
   "cell_type": "code",
   "execution_count": null,
   "id": "51c76596-80ee-4a22-9b7a-f38f3005a5c1",
   "metadata": {},
   "outputs": [],
   "source": [
    "# Left\n",
    "\n",
    "Link coming from ADPs to OL: 0.09262054171848587  %\n",
    "Link coming from ADPs to I: 0.15306714897480199 %\n",
    "Link coming from ADPs to OLI: 0.09485420526174636 %\n",
    "\n",
    "\n",
    "# Right\n",
    "\n",
    "Link coming from ADPs to OL: 0.05548646399749147 %\n",
    "Link coming from ADPs to I: 0.4571202729329761 %\n",
    "Link coming from ADPs to OLI: 0.03098912889926124 %\n",
    "\n",
    "# Full\n",
    "\n",
    "Link coming from ADPs to OL: 0.05590666928155367 %\n",
    "Link coming from ADPs to I: 0.05653040781141246 %\n",
    "Link coming from ADPs to OLI: 0.039735427186372613 %"
   ]
  },
  {
   "cell_type": "code",
   "execution_count": null,
   "id": "4a29e3b1-398e-424d-8f90-509dcaefdd1d",
   "metadata": {},
   "outputs": [],
   "source": []
  },
  {
   "cell_type": "code",
   "execution_count": null,
   "id": "3a78be54-58aa-47ef-9ff7-4dd36443b7e8",
   "metadata": {},
   "outputs": [],
   "source": []
  },
  {
   "cell_type": "code",
   "execution_count": null,
   "id": "4399abd0-eff4-4d03-9755-c5e6efc805cf",
   "metadata": {},
   "outputs": [],
   "source": []
  }
 ],
 "metadata": {
  "kernelspec": {
   "display_name": "Python 3 (ipykernel)",
   "language": "python",
   "name": "python3"
  },
  "language_info": {
   "codemirror_mode": {
    "name": "ipython",
    "version": 3
   },
   "file_extension": ".py",
   "mimetype": "text/x-python",
   "name": "python",
   "nbconvert_exporter": "python",
   "pygments_lexer": "ipython3",
   "version": "3.11.7"
  }
 },
 "nbformat": 4,
 "nbformat_minor": 5
}
